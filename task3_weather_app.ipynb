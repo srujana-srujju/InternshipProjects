{
 "cells": [
  {
   "cell_type": "code",
   "execution_count": 13,
   "id": "6537bf82",
   "metadata": {},
   "outputs": [
    {
     "name": "stdout",
     "output_type": "stream",
     "text": [
      "Enter a city name: London\n",
      "Weather in London:\n",
      "Temperature: 10.79°C\n",
      "Humidity: 96%\n",
      "Condition: Moderate rain\n"
     ]
    }
   ],
   "source": [
    "import requests\n",
    "\n",
    "API_KEY = \"38cf4b69701f3456f2ffca513281d56c\"\n",
    "\n",
    "def get_weather(city):\n",
    "    base_url = \"http://api.openweathermap.org/data/2.5/weather\"\n",
    "    params = {\n",
    "        \"q\": city,\n",
    "        \"appid\": API_KEY,\n",
    "        \"units\": \"metric\"  \n",
    "    }\n",
    "\n",
    "    try:\n",
    "        response = requests.get(base_url, params=params)\n",
    "        data = response.json()\n",
    "        \n",
    "        if response.status_code == 200:\n",
    "            temperature = data[\"main\"][\"temp\"]\n",
    "            humidity = data[\"main\"][\"humidity\"]\n",
    "            weather_condition = data[\"weather\"][0][\"description\"]\n",
    "            \n",
    "            print(f\"Weather in {city}:\")\n",
    "            print(f\"Temperature: {temperature}°C\")\n",
    "            print(f\"Humidity: {humidity}%\")\n",
    "            print(f\"Condition: {weather_condition.capitalize()}\")\n",
    "        else:\n",
    "            print(f\"Failed to fetch weather data for {city}. Status code: {response.status_code}\")\n",
    "    except requests.exceptions.RequestException as e:\n",
    "        print(f\"Error: {e}\")\n",
    "    except KeyError:\n",
    "        print(f\"City not found: {city}\")\n",
    "\n",
    "if __name__ == \"__main__\":\n",
    "    city = input(\"Enter a city name: \")\n",
    "    get_weather(city)\n"
   ]
  },
  {
   "cell_type": "code",
   "execution_count": null,
   "id": "b024150e",
   "metadata": {},
   "outputs": [],
   "source": []
  }
 ],
 "metadata": {
  "kernelspec": {
   "display_name": "Python 3 (ipykernel)",
   "language": "python",
   "name": "python3"
  },
  "language_info": {
   "codemirror_mode": {
    "name": "ipython",
    "version": 3
   },
   "file_extension": ".py",
   "mimetype": "text/x-python",
   "name": "python",
   "nbconvert_exporter": "python",
   "pygments_lexer": "ipython3",
   "version": "3.10.9"
  }
 },
 "nbformat": 4,
 "nbformat_minor": 5
}
