{
 "cells": [
  {
   "cell_type": "code",
   "execution_count": 1,
   "id": "c6f11d71",
   "metadata": {},
   "outputs": [
    {
     "name": "stdout",
     "output_type": "stream",
     "text": [
      "Welcome to the Number Guessing Game!\n",
      "I'm thinking of a number between 1 and 100.\n",
      "Guess the number: 50\n",
      "Try a lower number.\n",
      "Guess the number: 20\n",
      "Try a lower number.\n",
      "Guess the number: 15\n",
      "Try a lower number.\n",
      "Guess the number: 10\n",
      "Try a lower number.\n",
      "Guess the number: 5\n",
      "Try a lower number.\n",
      "Guess the number: 1\n",
      "Try a higher number.\n",
      "Guess the number: 3\n",
      "Try a lower number.\n",
      "Guess the number: 2\n",
      "Congratulations! You guessed the number 2 in 8 attempts.\n"
     ]
    }
   ],
   "source": [
    "import random\n",
    "\n",
    "def number_guessing_game():\n",
    "    print(\"Welcome to the Number Guessing Game!\")\n",
    "    print(\"I'm thinking of a number between 1 and 100.\")\n",
    "    secret_number = random.randint(1, 100)\n",
    "    attempts = 0\n",
    "\n",
    "    while True:\n",
    "        try:\n",
    "            guess = int(input(\"Guess the number: \"))\n",
    "            attempts += 1\n",
    "\n",
    "            if guess < secret_number:\n",
    "                print(\"Try a higher number.\")\n",
    "            elif guess > secret_number:\n",
    "                print(\"Try a lower number.\")\n",
    "            else:\n",
    "                print(f\"Congratulations! You guessed the number {secret_number} in {attempts} attempts.\")\n",
    "                break\n",
    "        except ValueError:\n",
    "            print(\"Please enter a valid number.\")\n",
    "\n",
    "\n",
    "number_guessing_game()"
   ]
  },
  {
   "cell_type": "code",
   "execution_count": null,
   "id": "5ecf5e18",
   "metadata": {},
   "outputs": [],
   "source": []
  }
 ],
 "metadata": {
  "kernelspec": {
   "display_name": "Python 3 (ipykernel)",
   "language": "python",
   "name": "python3"
  },
  "language_info": {
   "codemirror_mode": {
    "name": "ipython",
    "version": 3
   },
   "file_extension": ".py",
   "mimetype": "text/x-python",
   "name": "python",
   "nbconvert_exporter": "python",
   "pygments_lexer": "ipython3",
   "version": "3.10.9"
  }
 },
 "nbformat": 4,
 "nbformat_minor": 5
}
