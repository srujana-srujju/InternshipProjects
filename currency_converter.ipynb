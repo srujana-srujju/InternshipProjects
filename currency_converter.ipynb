{
 "cells": [
  {
   "cell_type": "code",
   "execution_count": null,
   "id": "a33a3259",
   "metadata": {},
   "outputs": [
    {
     "name": "stdout",
     "output_type": "stream",
     "text": [
      "Welcome to the Currency Converter Tool (No API Key Required).\n",
      "This tool uses a sample exchange rate dataset for demonstration.\n",
      "You need to enter a base currency, target currency, and an amount for conversion.\n",
      "To exit the program, press Ctrl+C.\n",
      "Enter the base currency code (e.g., USD): USD\n",
      "Enter the target currency code (e.g., EUR): EUR\n",
      "Enter the amount to convert: 120\n",
      "120.0 USD is equal to 103.2 EUR\n",
      "Exchange rate used: 1 USD = 0.86 EUR\n",
      "Enter the base currency code (e.g., USD): USD\n",
      "Enter the target currency code (e.g., EUR): GBP\n",
      "Enter the amount to convert: 120\n",
      "120.0 USD is equal to 88.8 GBP\n",
      "Exchange rate used: 1 USD = 0.74 GBP\n",
      "Enter the base currency code (e.g., USD): USD\n",
      "Enter the target currency code (e.g., EUR): JPY\n",
      "Enter the amount to convert: 120\n",
      "120.0 USD is equal to 13228.8 JPY\n",
      "Exchange rate used: 1 USD = 110.24 JPY\n"
     ]
    }
   ],
   "source": [
    "# Sample exchange rate data (for demonstration)\n",
    "exchange_rate_data = {\n",
    "    \"USD\": {\n",
    "        \"EUR\": 0.86,\n",
    "        \"GBP\": 0.74,\n",
    "        \"JPY\": 110.24\n",
    "    },\n",
    "    \"EUR\": {\n",
    "        \"USD\": 1.16,\n",
    "        \"GBP\": 0.86,\n",
    "        \"JPY\": 129.42\n",
    "    },\n",
    "    \"GBP\": {\n",
    "        \"USD\": 1.35,\n",
    "        \"EUR\": 1.17,\n",
    "        \"JPY\": 151.43\n",
    "    }\n",
    "}\n",
    "\n",
    "# Function to fetch exchange rate\n",
    "def get_exchange_rate(base_currency, target_currency):\n",
    "    if base_currency in exchange_rate_data and target_currency in exchange_rate_data[base_currency]:\n",
    "        return exchange_rate_data[base_currency][target_currency]\n",
    "    else:\n",
    "        return None\n",
    "\n",
    "# Function to convert currency\n",
    "def convert_currency():\n",
    "    base_currency = input(\"Enter the base currency code (e.g., USD): \").upper()\n",
    "    target_currency = input(\"Enter the target currency code (e.g., EUR): \").upper()\n",
    "    \n",
    "    amount = input(\"Enter the amount to convert: \")\n",
    "\n",
    "    try:\n",
    "        amount = float(amount)\n",
    "    except ValueError:\n",
    "        print(\"Invalid input. Please enter a valid numeric amount.\")\n",
    "        return\n",
    "\n",
    "    exchange_rate = get_exchange_rate(base_currency, target_currency)\n",
    "\n",
    "    if exchange_rate is not None:\n",
    "        converted_amount = amount * exchange_rate\n",
    "        print(f\"{amount} {base_currency} is equal to {converted_amount} {target_currency}\")\n",
    "        print(f\"Exchange rate used: 1 {base_currency} = {exchange_rate} {target_currency}\")\n",
    "    else:\n",
    "        print(\"Invalid input. Please check your currency codes.\")\n",
    "\n",
    "if __name__ == \"__main__\":\n",
    "    print(\"Welcome to the Currency Converter Tool (No API Key Required).\")\n",
    "    print(\"This tool uses a sample exchange rate dataset for demonstration.\")\n",
    "    print(\"You need to enter a base currency, target currency, and an amount for conversion.\")\n",
    "    print(\"To exit the program, press Ctrl+C.\")\n",
    "\n",
    "    while True:\n",
    "        convert_currency()\n"
   ]
  },
  {
   "cell_type": "code",
   "execution_count": null,
   "id": "fd1ba264",
   "metadata": {},
   "outputs": [],
   "source": []
  }
 ],
 "metadata": {
  "kernelspec": {
   "display_name": "Python 3 (ipykernel)",
   "language": "python",
   "name": "python3"
  },
  "language_info": {
   "codemirror_mode": {
    "name": "ipython",
    "version": 3
   },
   "file_extension": ".py",
   "mimetype": "text/x-python",
   "name": "python",
   "nbconvert_exporter": "python",
   "pygments_lexer": "ipython3",
   "version": "3.10.9"
  }
 },
 "nbformat": 4,
 "nbformat_minor": 5
}
